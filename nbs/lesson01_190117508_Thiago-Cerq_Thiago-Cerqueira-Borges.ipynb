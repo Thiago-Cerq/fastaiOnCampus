{
 "cells": [
  {
   "cell_type": "markdown",
   "id": "2571281f-8789-4b8b-8df7-c17ed1798636",
   "metadata": {},
   "source": [
    "# Artigo 01:"
   ]
  },
  {
   "cell_type": "markdown",
   "id": "df5ac21e-9c16-496d-b392-2acba9e4f31f",
   "metadata": {},
   "source": [
    "## Informações\n",
    "* Autor: Thiago Cerqueira Borges\n",
    "* Matrícula: 190117508\n",
    "* GitHub: Thiago-Cerq"
   ]
  },
  {
   "cell_type": "markdown",
   "id": "6af17046-ce2e-4b20-9627-a17f2c580d4b",
   "metadata": {},
   "source": [
    "## Objetivo\n",
    "O objetivo deste artigo é evidenciar o conhecimento adquirido na primeira lição e descrever os passos efetuados para treinar um modelo de identificação de flores com base em imagens."
   ]
  },
  {
   "cell_type": "markdown",
   "id": "f73473e2-3603-4d2b-a9cb-fb7c989b4dbd",
   "metadata": {},
   "source": [
    "# Passo 01\n",
    "Intalar as depêndecias"
   ]
  },
  {
   "cell_type": "code",
   "execution_count": 5,
   "id": "91354bd3-ac2b-4f6f-b197-df404e7480a0",
   "metadata": {},
   "outputs": [],
   "source": [
    "from duckduckgo_search import ddg_images\n",
    "from duckduckgo_search import DDGS\n",
    "from fastcore.all import *\n",
    "\n",
    "def search_images(term: str, max_images=30):\n",
    "    print(f\"Searching for '{term}'\")\n",
    "    return L(ddg_images(term, max_results=max_images)).itemgot('image')"
   ]
  },
  {
   "cell_type": "markdown",
   "id": "65456d21-81c1-4b6c-8bed-1b138fe9848c",
   "metadata": {},
   "source": [
    "O primeiro teste será feito baixando apenas uma imagem de um avião:"
   ]
  },
  {
   "cell_type": "code",
   "execution_count": 6,
   "id": "85cdc2d3-399f-402b-8f4e-b14bbb08e386",
   "metadata": {},
   "outputs": [
    {
     "name": "stdout",
     "output_type": "stream",
     "text": [
      "Searching for 'military airplane'\n"
     ]
    },
    {
     "data": {
      "text/plain": [
       "'https://wallup.net/wp-content/uploads/2019/09/250764-a-10-bomber-jet-fighter-bomb-military-airplane-plane-thunderbolt-warthog-73-jpg-2.jpg'"
      ]
     },
     "execution_count": 6,
     "metadata": {},
     "output_type": "execute_result"
    }
   ],
   "source": [
    "urls = search_images('military airplane', max_images=3)\n",
    "urls[2]"
   ]
  },
  {
   "cell_type": "markdown",
   "id": "cf8530de-d147-4dd7-9150-f4fa4138938d",
   "metadata": {},
   "source": [
    "Para verificar se a imagem esta correta, faremos o download.\n",
    "Então utilizando a biblioteca fastdownload."
   ]
  },
  {
   "cell_type": "code",
   "execution_count": 9,
   "id": "99b7d4a4-8aac-4f7b-a36b-074519467f94",
   "metadata": {},
   "outputs": [
    {
     "name": "stdout",
     "output_type": "stream",
     "text": [
      "█\r"
     ]
    },
    {
     "ename": "ModuleNotFoundError",
     "evalue": "No module named 'fastai'",
     "output_type": "error",
     "traceback": [
      "\u001b[0;31m---------------------------------------------------------------------------\u001b[0m",
      "\u001b[0;31mModuleNotFoundError\u001b[0m                       Traceback (most recent call last)",
      "Cell \u001b[0;32mIn[9], line 5\u001b[0m\n\u001b[1;32m      2\u001b[0m dest \u001b[38;5;241m=\u001b[39m \u001b[38;5;124m'\u001b[39m\u001b[38;5;124moneflower.jpg\u001b[39m\u001b[38;5;124m'\u001b[39m\n\u001b[1;32m      3\u001b[0m download_url(urls[\u001b[38;5;241m0\u001b[39m], dest, show_progress\u001b[38;5;241m=\u001b[39m\u001b[38;5;28;01mFalse\u001b[39;00m)\n\u001b[0;32m----> 5\u001b[0m \u001b[38;5;28;01mfrom\u001b[39;00m \u001b[38;5;21;01mfastai\u001b[39;00m\u001b[38;5;21;01m.\u001b[39;00m\u001b[38;5;21;01mvision\u001b[39;00m\u001b[38;5;21;01m.\u001b[39;00m\u001b[38;5;21;01mall\u001b[39;00m \u001b[38;5;28;01mimport\u001b[39;00m \u001b[38;5;241m*\u001b[39m\n\u001b[1;32m      6\u001b[0m im \u001b[38;5;241m=\u001b[39m Image\u001b[38;5;241m.\u001b[39mopen(dest)\n\u001b[1;32m      7\u001b[0m im\u001b[38;5;241m.\u001b[39mto_thumb(\u001b[38;5;241m256\u001b[39m,\u001b[38;5;241m256\u001b[39m)\n",
      "\u001b[0;31mModuleNotFoundError\u001b[0m: No module named 'fastai'"
     ]
    }
   ],
   "source": [
    "from fastdownload import download_url\n",
    "dest = 'oneflower.jpg'\n",
    "download_url(urls[0], dest, show_progress=False)\n",
    "\n",
    "from fastai.vision.all import *\n",
    "im = Image.open(dest)\n",
    "im.to_thumb(256,256)"
   ]
  },
  {
   "cell_type": "code",
   "execution_count": null,
   "id": "8f3ac429-3e61-421b-a4c8-8f16f8ead0e8",
   "metadata": {},
   "outputs": [],
   "source": []
  }
 ],
 "metadata": {
  "kernelspec": {
   "display_name": "Python 3 (ipykernel)",
   "language": "python",
   "name": "python3"
  },
  "language_info": {
   "codemirror_mode": {
    "name": "ipython",
    "version": 3
   },
   "file_extension": ".py",
   "mimetype": "text/x-python",
   "name": "python",
   "nbconvert_exporter": "python",
   "pygments_lexer": "ipython3",
   "version": "3.8.10"
  }
 },
 "nbformat": 4,
 "nbformat_minor": 5
}
